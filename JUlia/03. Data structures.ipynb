{
  "cells": [
    {
      "cell_type": "markdown",
      "source": [
        "# Data structures\n",
        "\n",
        "Once we start working with many pieces of data at once, it will be convenient for us to store data in structures like arrays or dictionaries (rather than just relying on variables).<br>\n",
        "\n",
        "Types of data structures covered:\n",
        "1. Tuples\n",
        "2. Dictionaries\n",
        "3. Arrays\n",
        "\n",
        "<br>\n",
        "As an overview, tuples and arrays are both ordered sequences of elements (so we can index into them). Dictionaries and arrays are both mutable.\n",
        "We'll explain this more below!"
      ],
      "metadata": {}
    },
    {
      "cell_type": "markdown",
      "source": [
        "## Tuples\n",
        "\n",
        "We can create a tuple by enclosing an ordered collection of elements in `( )`.\n",
        "\n",
        "Syntax: <br>\n",
        "```julia\n",
        "(item1, item2, ...)```"
      ],
      "metadata": {}
    },
    {
      "cell_type": "code",
      "source": [
        "myfavoriteanimals = (\"penguins\", \"cats\", \"sugargliders\")"
      ],
      "outputs": [
        {
          "output_type": "execute_result",
          "execution_count": 1,
          "data": {
            "text/plain": "(\"penguins\", \"cats\", \"sugargliders\")"
          },
          "metadata": {}
        }
      ],
      "execution_count": 1,
      "metadata": {
        "execution": {
          "iopub.status.busy": "2020-12-05T20:52:11.160Z",
          "iopub.execute_input": "2020-12-05T20:52:11.573Z",
          "iopub.status.idle": "2020-12-05T20:52:12.183Z"
        }
      }
    },
    {
      "cell_type": "markdown",
      "source": [
        "We can index into this tuple,"
      ],
      "metadata": {}
    },
    {
      "cell_type": "code",
      "source": [
        "myfavoriteanimals[1]"
      ],
      "outputs": [
        {
          "output_type": "execute_result",
          "execution_count": 2,
          "data": {
            "text/plain": "\"penguins\""
          },
          "metadata": {}
        }
      ],
      "execution_count": 2,
      "metadata": {
        "execution": {
          "iopub.status.busy": "2020-12-05T20:52:47.021Z",
          "iopub.execute_input": "2020-12-05T20:52:47.044Z",
          "iopub.status.idle": "2020-12-05T20:52:47.201Z"
        }
      }
    },
    {
      "cell_type": "markdown",
      "source": [
        "but since tuples are immutable, we can't update it"
      ],
      "metadata": {}
    },
    {
      "cell_type": "code",
      "source": [
        "myfavoriteanimals[1] = \"otters\""
      ],
      "outputs": [
        {
          "output_type": "error",
          "ename": "LoadError",
          "evalue": "MethodError: no method matching setindex!(::Tuple{String,String,String}, ::String, ::Int64)",
          "traceback": [
            "MethodError: no method matching setindex!(::Tuple{String,String,String}, ::String, ::Int64)",
            "",
            "Stacktrace:",
            " [1] top-level scope at In[3]:1",
            " [2] include_string(::Function, ::Module, ::String, ::String) at .\\loading.jl:1091"
          ]
        }
      ],
      "execution_count": 3,
      "metadata": {
        "execution": {
          "iopub.status.busy": "2020-12-05T20:52:54.549Z",
          "iopub.execute_input": "2020-12-05T20:52:54.566Z"
        }
      }
    },
    {
      "cell_type": "markdown",
      "source": [
        "## Now in 1.0: NamedTuples\n",
        "\n",
        "As you might guess, `NamedTuple`s are just like `Tuple`s except that each element additionally has a name! They have a special syntax using `=` inside a tuple:\n",
        "\n",
        "```julia\n",
        "(name1 = item1, name2 = item2, ...)\n",
        "```"
      ],
      "metadata": {}
    },
    {
      "cell_type": "code",
      "source": [
        "myfavoriteanimals = (bird = \"penguins\", mammal = \"cats\", marsupial = \"sugargliders\")"
      ],
      "outputs": [
        {
          "output_type": "execute_result",
          "execution_count": 4,
          "data": {
            "text/plain": "(bird = \"penguins\", mammal = \"cats\", marsupial = \"sugargliders\")"
          },
          "metadata": {}
        }
      ],
      "execution_count": 4,
      "metadata": {
        "execution": {
          "iopub.status.busy": "2020-12-05T20:54:32.569Z",
          "iopub.execute_input": "2020-12-05T20:54:32.588Z",
          "iopub.status.idle": "2020-12-05T20:54:32.785Z"
        }
      }
    },
    {
      "cell_type": "markdown",
      "source": [
        "Like regular `Tuples`, `NamedTuples` are ordered, so we can retrieve their elements via indexing:"
      ],
      "metadata": {}
    },
    {
      "cell_type": "code",
      "source": [
        "myfavoriteanimals[1]"
      ],
      "outputs": [
        {
          "output_type": "execute_result",
          "execution_count": 5,
          "data": {
            "text/plain": "\"penguins\""
          },
          "metadata": {}
        }
      ],
      "execution_count": 5,
      "metadata": {
        "execution": {
          "iopub.status.busy": "2020-12-05T20:54:40.200Z",
          "iopub.execute_input": "2020-12-05T20:54:40.218Z",
          "iopub.status.idle": "2020-12-05T20:54:40.249Z"
        }
      }
    },
    {
      "cell_type": "markdown",
      "source": [
        "They also add the special ability to access values by their name:"
      ],
      "metadata": {}
    },
    {
      "cell_type": "code",
      "source": [
        "myfavoriteanimals.bird"
      ],
      "outputs": [
        {
          "output_type": "execute_result",
          "execution_count": 6,
          "data": {
            "text/plain": "\"penguins\""
          },
          "metadata": {}
        }
      ],
      "execution_count": 6,
      "metadata": {
        "execution": {
          "iopub.status.busy": "2020-12-05T20:54:47.686Z",
          "iopub.execute_input": "2020-12-05T20:54:47.702Z",
          "iopub.status.idle": "2020-12-05T20:54:47.736Z"
        }
      }
    },
    {
      "cell_type": "markdown",
      "source": [
        "## Dictionaries\n",
        "\n",
        "If we have sets of data related to one another, we may choose to store that data in a dictionary. We can create a dictionary using the `Dict()` function, which we can initialize as an empty dictionary or one storing key, value pairs.\n",
        "\n",
        "Syntax:\n",
        "```julia\n",
        "Dict(key1 => value1, key2 => value2, ...)```\n",
        "\n",
        "A good example is a contacts list, where we associate names with phone numbers."
      ],
      "metadata": {}
    },
    {
      "cell_type": "code",
      "source": [
        "myphonebook = Dict(\"Jenny\" => \"867-5309\", \"Ghostbusters\" => \"555-2368\")"
      ],
      "outputs": [
        {
          "output_type": "execute_result",
          "execution_count": 7,
          "data": {
            "text/plain": "Dict{String,String} with 2 entries:\n  \"Jenny\"        => \"867-5309\"\n  \"Ghostbusters\" => \"555-2368\""
          },
          "metadata": {}
        }
      ],
      "execution_count": 7,
      "metadata": {
        "execution": {
          "iopub.status.busy": "2020-12-05T20:55:48.374Z",
          "iopub.execute_input": "2020-12-05T20:55:48.392Z",
          "iopub.status.idle": "2020-12-05T20:55:48.868Z"
        }
      }
    },
    {
      "cell_type": "markdown",
      "source": [
        "In this example, each name and number is a \"key\" and \"value\" pair. We can grab Jenny's number (a value) using the associated key"
      ],
      "metadata": {
        "collapsed": true
      }
    },
    {
      "cell_type": "code",
      "source": [
        "myphonebook[\"Jenny\"]"
      ],
      "outputs": [
        {
          "output_type": "execute_result",
          "execution_count": 8,
          "data": {
            "text/plain": "\"867-5309\""
          },
          "metadata": {}
        }
      ],
      "execution_count": 8,
      "metadata": {
        "execution": {
          "iopub.status.busy": "2020-12-05T20:56:06.748Z",
          "iopub.execute_input": "2020-12-05T20:56:06.765Z",
          "iopub.status.idle": "2020-12-05T20:56:06.793Z"
        }
      }
    },
    {
      "cell_type": "markdown",
      "source": [
        "We can add another entry to this dictionary as follows"
      ],
      "metadata": {}
    },
    {
      "cell_type": "code",
      "source": [
        "myphonebook[\"Kramer\"] = \"555-FILK\"\n",
        "if !haskey(myphonebook, \"Ahmet\") \n",
        "  println(\"myphonebook does not contain the key Ahmet\")\n",
        "else\n",
        "  println(\"myphonebook contains the key Ahmet\")\n",
        "end"
      ],
      "outputs": [
        {
          "output_type": "stream",
          "name": "stdout",
          "text": [
            "myphonebook does not contain the key Ahmet\n"
          ]
        }
      ],
      "execution_count": 13,
      "metadata": {
        "execution": {
          "iopub.status.busy": "2020-12-05T21:07:31.654Z",
          "iopub.execute_input": "2020-12-05T21:07:31.666Z",
          "iopub.status.idle": "2020-12-05T21:07:31.691Z"
        }
      }
    },
    {
      "cell_type": "markdown",
      "source": [
        "Let's check what our phonebook looks like now..."
      ],
      "metadata": {}
    },
    {
      "cell_type": "code",
      "source": [
        "myphonebook"
      ],
      "outputs": [
        {
          "output_type": "execute_result",
          "execution_count": 14,
          "data": {
            "text/plain": "Dict{String,String} with 3 entries:\n  \"Jenny\"        => \"867-5309\"\n  \"Kramer\"       => \"555-FILK\"\n  \"Ghostbusters\" => \"555-2368\""
          },
          "metadata": {}
        }
      ],
      "execution_count": 14,
      "metadata": {
        "execution": {
          "iopub.status.busy": "2020-12-05T21:07:44.306Z",
          "iopub.execute_input": "2020-12-05T21:07:44.320Z",
          "iopub.status.idle": "2020-12-05T21:07:44.350Z"
        }
      }
    },
    {
      "cell_type": "markdown",
      "source": [
        "We can delete Kramer from our contact list - and simultaneously grab his number - by using `pop!`"
      ],
      "metadata": {}
    },
    {
      "cell_type": "code",
      "source": [
        "result = pop!(myphonebook, \"Kramer\")\n",
        "result"
      ],
      "outputs": [
        {
          "output_type": "execute_result",
          "execution_count": 15,
          "data": {
            "text/plain": "\"555-FILK\""
          },
          "metadata": {}
        }
      ],
      "execution_count": 15,
      "metadata": {
        "execution": {
          "iopub.status.busy": "2020-12-05T21:08:22.839Z",
          "iopub.execute_input": "2020-12-05T21:08:22.854Z",
          "iopub.status.idle": "2020-12-05T21:08:22.880Z"
        }
      }
    },
    {
      "cell_type": "code",
      "source": [
        "myphonebook"
      ],
      "outputs": [
        {
          "output_type": "execute_result",
          "execution_count": 16,
          "data": {
            "text/plain": "Dict{String,String} with 2 entries:\n  \"Jenny\"        => \"867-5309\"\n  \"Ghostbusters\" => \"555-2368\""
          },
          "metadata": {}
        }
      ],
      "execution_count": 16,
      "metadata": {
        "execution": {
          "iopub.status.busy": "2020-12-05T21:08:32.299Z",
          "iopub.execute_input": "2020-12-05T21:08:32.312Z",
          "iopub.status.idle": "2020-12-05T21:08:32.339Z"
        }
      }
    },
    {
      "cell_type": "markdown",
      "source": [
        "Unlike tuples and arrays, dictionaries are not ordered. So, we can't index into them."
      ],
      "metadata": {}
    },
    {
      "cell_type": "code",
      "source": [
        "myphonebook[1]"
      ],
      "outputs": [
        {
          "output_type": "error",
          "ename": "LoadError",
          "evalue": "KeyError: key 1 not found",
          "traceback": [
            "KeyError: key 1 not found",
            "",
            "Stacktrace:",
            " [1] getindex(::Dict{String,String}, ::Int64) at .\\dict.jl:467",
            " [2] top-level scope at In[17]:1",
            " [3] include_string(::Function, ::Module, ::String, ::String) at .\\loading.jl:1091"
          ]
        }
      ],
      "execution_count": 17,
      "metadata": {
        "execution": {
          "iopub.status.busy": "2020-12-05T21:08:41.015Z",
          "iopub.execute_input": "2020-12-05T21:08:41.028Z"
        }
      }
    },
    {
      "cell_type": "markdown",
      "source": [
        "In the example above, `julia` thinks you're trying to access a value associated with the key `1`."
      ],
      "metadata": {}
    },
    {
      "cell_type": "markdown",
      "source": [
        "## Arrays\n",
        "\n",
        "Unlike tuples, arrays are mutable. Unlike dictionaries, arrays contain ordered collections. <br>\n",
        "We can create an array by enclosing this collection in `[ ]`.\n",
        "\n",
        "Syntax: <br>\n",
        "```julia\n",
        "[item1, item2, ...]```\n",
        "\n",
        "\n",
        "For example, we might create an array to keep track of my friends"
      ],
      "metadata": {}
    },
    {
      "cell_type": "code",
      "source": [
        "myfriends = [\"Ted\", \"Robyn\", \"Barney\", \"Lily\", \"Marshall\"]"
      ],
      "outputs": [
        {
          "output_type": "execute_result",
          "execution_count": 18,
          "data": {
            "text/plain": "5-element Array{String,1}:\n \"Ted\"\n \"Robyn\"\n \"Barney\"\n \"Lily\"\n \"Marshall\""
          },
          "metadata": {}
        }
      ],
      "execution_count": 18,
      "metadata": {
        "execution": {
          "iopub.status.busy": "2020-12-05T21:10:11.237Z",
          "iopub.execute_input": "2020-12-05T21:10:11.253Z",
          "iopub.status.idle": "2020-12-05T21:10:11.856Z"
        }
      }
    },
    {
      "cell_type": "markdown",
      "source": [
        "The `1` in `Array{String,1}` means this is a one dimensional vector.  An `Array{String,2}` would be a 2d matrix, etc.  The `String` is the type of each element."
      ],
      "metadata": {}
    },
    {
      "cell_type": "markdown",
      "source": [
        "or to store a sequence of numbers"
      ],
      "metadata": {}
    },
    {
      "cell_type": "code",
      "source": [
        "fibonacci = [1, 1, 2, 3, 5, 8, 13]"
      ],
      "outputs": [
        {
          "output_type": "execute_result",
          "execution_count": 19,
          "data": {
            "text/plain": "7-element Array{Int64,1}:\n  1\n  1\n  2\n  3\n  5\n  8\n 13"
          },
          "metadata": {}
        }
      ],
      "execution_count": 19,
      "metadata": {
        "execution": {
          "iopub.status.busy": "2020-12-05T21:10:37.299Z",
          "iopub.execute_input": "2020-12-05T21:10:37.316Z",
          "iopub.status.idle": "2020-12-05T21:10:37.897Z"
        }
      }
    },
    {
      "cell_type": "code",
      "source": [
        "mixture = [1, 1, 2, 3, \"Ted\", \"Robyn\"]"
      ],
      "outputs": [],
      "execution_count": null,
      "metadata": {}
    },
    {
      "cell_type": "markdown",
      "source": [
        "Once we have an array, we can grab individual pieces of data from inside that array by indexing into the array. For example, if we want the third friend listed in `myfriends`, we write"
      ],
      "metadata": {}
    },
    {
      "cell_type": "code",
      "source": [
        "myfriends[3]"
      ],
      "outputs": [
        {
          "output_type": "execute_result",
          "execution_count": 20,
          "data": {
            "text/plain": "\"Barney\""
          },
          "metadata": {}
        }
      ],
      "execution_count": 20,
      "metadata": {
        "execution": {
          "iopub.status.busy": "2020-12-05T21:11:27.743Z",
          "iopub.execute_input": "2020-12-05T21:11:27.760Z",
          "iopub.status.idle": "2020-12-05T21:11:27.789Z"
        }
      }
    },
    {
      "cell_type": "markdown",
      "source": [
        "We can use indexing to edit an existing element of an array"
      ],
      "metadata": {}
    },
    {
      "cell_type": "code",
      "source": [
        "myfriends[3] = \"Baby Bop\""
      ],
      "outputs": [],
      "execution_count": null,
      "metadata": {}
    },
    {
      "cell_type": "markdown",
      "source": [
        "Yes, Julia is 1-based indexing, not 0-based like Python.  Wars are fought over lesser issues. I have a friend with the wisdom of Solomon who proposes settling this once and for all with ½ 😃"
      ],
      "metadata": {}
    },
    {
      "cell_type": "markdown",
      "source": [
        "We can also edit the array by using the `push!` and `pop!` functions. `push!` adds an element to the end of an array and `pop!` removes the last element of an array.\n",
        "\n",
        "We can add another number to our fibonnaci sequence"
      ],
      "metadata": {}
    },
    {
      "cell_type": "code",
      "source": [
        "push!(fibonacci, 21)\n"
      ],
      "outputs": [],
      "execution_count": null,
      "metadata": {
        "execution": {
          "iopub.status.busy": "2020-12-05T21:16:25.106Z",
          "iopub.execute_input": "2020-12-05T21:16:25.120Z",
          "iopub.status.idle": "2020-12-05T21:15:17.389Z"
        }
      }
    },
    {
      "cell_type": "markdown",
      "source": [
        "and then remove it"
      ],
      "metadata": {}
    },
    {
      "cell_type": "code",
      "source": [
        "pop!(fibonacci)"
      ],
      "outputs": [
        {
          "output_type": "execute_result",
          "execution_count": 29,
          "data": {
            "text/plain": "21"
          },
          "metadata": {}
        }
      ],
      "execution_count": 29,
      "metadata": {
        "execution": {
          "iopub.status.busy": "2020-12-05T21:26:20.558Z",
          "iopub.execute_input": "2020-12-05T21:26:20.572Z",
          "iopub.status.idle": "2020-12-05T21:26:20.595Z"
        }
      }
    },
    {
      "cell_type": "code",
      "source": [
        "fibonacci"
      ],
      "outputs": [
        {
          "output_type": "execute_result",
          "execution_count": 30,
          "data": {
            "text/plain": "7-element Array{Int64,1}:\n  1\n  1\n  2\n  3\n  5\n  8\n 13"
          },
          "metadata": {}
        }
      ],
      "execution_count": 30,
      "metadata": {
        "execution": {
          "iopub.status.busy": "2020-12-05T21:26:27.155Z",
          "iopub.execute_input": "2020-12-05T21:26:27.170Z",
          "iopub.status.idle": "2020-12-05T21:26:27.201Z"
        }
      }
    },
    {
      "cell_type": "markdown",
      "source": [
        "So far I've given examples of only 1D arrays of scalars, but arrays can have an arbitrary number of dimensions and can also store other arrays. \n",
        "<br><br>\n",
        "For example, the following are arrays of arrays:"
      ],
      "metadata": {}
    },
    {
      "cell_type": "code",
      "source": [
        "favorites = [[\"koobideh\", \"chocolate\", \"eggs\"],[\"penguins\", \"cats\", \"sugargliders\"]]"
      ],
      "outputs": [
        {
          "output_type": "execute_result",
          "execution_count": 31,
          "data": {
            "text/plain": "2-element Array{Array{String,1},1}:\n [\"koobideh\", \"chocolate\", \"eggs\"]\n [\"penguins\", \"cats\", \"sugargliders\"]"
          },
          "metadata": {}
        }
      ],
      "execution_count": 31,
      "metadata": {
        "execution": {
          "iopub.status.busy": "2020-12-05T21:26:56.752Z",
          "iopub.execute_input": "2020-12-05T21:26:56.767Z",
          "iopub.status.idle": "2020-12-05T21:26:57.426Z"
        }
      }
    },
    {
      "cell_type": "code",
      "source": [
        "numbers = [[1, 2, 3], [4, 5], [6, 7, 8, 9]]"
      ],
      "outputs": [
        {
          "output_type": "execute_result",
          "execution_count": 34,
          "data": {
            "text/plain": "3-element Array{Array{Int64,1},1}:\n [1, 2, 3]\n [4, 5]\n [6, 7, 8, 9]"
          },
          "metadata": {}
        }
      ],
      "execution_count": 34,
      "metadata": {
        "execution": {
          "iopub.status.busy": "2020-12-05T21:27:35.252Z",
          "iopub.execute_input": "2020-12-05T21:27:35.265Z",
          "iopub.status.idle": "2020-12-05T21:27:35.293Z"
        }
      }
    },
    {
      "cell_type": "markdown",
      "source": [
        "Below are examples of 2D and 3D arrays populated with random values."
      ],
      "metadata": {}
    },
    {
      "cell_type": "code",
      "source": [
        "rand(4, 3)"
      ],
      "outputs": [
        {
          "output_type": "execute_result",
          "execution_count": 36,
          "data": {
            "text/plain": "4×3 Array{Float64,2}:\n 0.463116  0.401855   0.51162\n 0.689714  0.395036   0.145836\n 0.877888  0.0589307  0.88175\n 0.901955  0.560409   0.816403"
          },
          "metadata": {}
        }
      ],
      "execution_count": 36,
      "metadata": {
        "execution": {
          "iopub.status.busy": "2020-12-05T21:28:00.908Z",
          "iopub.execute_input": "2020-12-05T21:28:00.923Z",
          "iopub.status.idle": "2020-12-05T21:28:00.950Z"
        }
      }
    },
    {
      "cell_type": "code",
      "source": [
        "rand(4, 3, 2)"
      ],
      "outputs": [
        {
          "output_type": "execute_result",
          "execution_count": 37,
          "data": {
            "text/plain": "4×3×2 Array{Float64,3}:\n[:, :, 1] =\n 0.977989   0.840897  0.203655\n 0.615384   0.661074  0.36407\n 0.815586   0.280901  0.0955554\n 0.0267794  0.401569  0.199616\n\n[:, :, 2] =\n 0.59046   0.368459  0.293203\n 0.655715  0.051096  0.742569\n 0.882271  0.254412  0.660827\n 0.665957  0.111608  0.529779"
          },
          "metadata": {}
        }
      ],
      "execution_count": 37,
      "metadata": {
        "execution": {
          "iopub.status.busy": "2020-12-05T21:28:15.787Z",
          "iopub.execute_input": "2020-12-05T21:28:15.804Z",
          "iopub.status.idle": "2020-12-05T21:28:16.531Z"
        }
      }
    },
    {
      "cell_type": "markdown",
      "source": [
        "Be careful when you want to copy arrays!"
      ],
      "metadata": {}
    },
    {
      "cell_type": "code",
      "source": [
        "fibonacci"
      ],
      "outputs": [
        {
          "output_type": "execute_result",
          "execution_count": 38,
          "data": {
            "text/plain": "7-element Array{Int64,1}:\n  1\n  1\n  2\n  3\n  5\n  8\n 13"
          },
          "metadata": {}
        }
      ],
      "execution_count": 38,
      "metadata": {
        "execution": {
          "iopub.status.busy": "2020-12-05T21:29:15.285Z",
          "iopub.execute_input": "2020-12-05T21:29:15.300Z",
          "iopub.status.idle": "2020-12-05T21:29:15.328Z"
        }
      }
    },
    {
      "cell_type": "code",
      "source": [
        "somenumbers = fibonacci"
      ],
      "outputs": [
        {
          "output_type": "execute_result",
          "execution_count": 39,
          "data": {
            "text/plain": "7-element Array{Int64,1}:\n  1\n  1\n  2\n  3\n  5\n  8\n 13"
          },
          "metadata": {}
        }
      ],
      "execution_count": 39,
      "metadata": {
        "execution": {
          "iopub.status.busy": "2020-12-05T21:29:20.267Z",
          "iopub.execute_input": "2020-12-05T21:29:20.283Z",
          "iopub.status.idle": "2020-12-05T21:29:20.313Z"
        }
      }
    },
    {
      "cell_type": "code",
      "source": [
        "somenumbers[1] = 404"
      ],
      "outputs": [
        {
          "output_type": "execute_result",
          "execution_count": 40,
          "data": {
            "text/plain": "404"
          },
          "metadata": {}
        }
      ],
      "execution_count": 40,
      "metadata": {
        "execution": {
          "iopub.status.busy": "2020-12-05T21:29:24.863Z",
          "iopub.execute_input": "2020-12-05T21:29:24.877Z",
          "iopub.status.idle": "2020-12-05T21:29:24.901Z"
        }
      }
    },
    {
      "cell_type": "code",
      "source": [
        "fibonacci"
      ],
      "outputs": [
        {
          "output_type": "execute_result",
          "execution_count": 41,
          "data": {
            "text/plain": "7-element Array{Int64,1}:\n 404\n   1\n   2\n   3\n   5\n   8\n  13"
          },
          "metadata": {}
        }
      ],
      "execution_count": 41,
      "metadata": {
        "execution": {
          "iopub.status.busy": "2020-12-05T21:29:27.440Z",
          "iopub.execute_input": "2020-12-05T21:29:27.455Z",
          "iopub.status.idle": "2020-12-05T21:29:27.484Z"
        }
      }
    },
    {
      "cell_type": "markdown",
      "source": [
        "Editing `somenumbers` caused `fibonacci` to get updated as well!\n",
        "\n",
        "In the above example, we didn't actually make a copy of `fibonacci`. We just created a new way to access the entries in the array bound to `fibonacci`.\n",
        "\n",
        "If we'd like to make a copy of the array bound to `fibonacci`, we can use the `copy` function."
      ],
      "metadata": {}
    },
    {
      "cell_type": "code",
      "source": [
        "# First, restore fibonacci\n",
        "fibonacci[1] = 1\n",
        "fibonacci"
      ],
      "outputs": [
        {
          "output_type": "execute_result",
          "execution_count": 42,
          "data": {
            "text/plain": "7-element Array{Int64,1}:\n  1\n  1\n  2\n  3\n  5\n  8\n 13"
          },
          "metadata": {}
        }
      ],
      "execution_count": 42,
      "metadata": {
        "execution": {
          "iopub.status.busy": "2020-12-05T21:30:33.444Z",
          "iopub.execute_input": "2020-12-05T21:30:33.459Z",
          "iopub.status.idle": "2020-12-05T21:30:33.488Z"
        }
      }
    },
    {
      "cell_type": "code",
      "source": [
        "somemorenumbers = copy(fibonacci)"
      ],
      "outputs": [
        {
          "output_type": "execute_result",
          "execution_count": 43,
          "data": {
            "text/plain": "7-element Array{Int64,1}:\n  1\n  1\n  2\n  3\n  5\n  8\n 13"
          },
          "metadata": {}
        }
      ],
      "execution_count": 43,
      "metadata": {
        "execution": {
          "iopub.status.busy": "2020-12-05T21:30:48.515Z",
          "iopub.execute_input": "2020-12-05T21:30:48.529Z",
          "iopub.status.idle": "2020-12-05T21:30:48.558Z"
        }
      }
    },
    {
      "cell_type": "code",
      "source": [
        "somemorenumbers[1] = 404"
      ],
      "outputs": [
        {
          "output_type": "execute_result",
          "execution_count": 44,
          "data": {
            "text/plain": "404"
          },
          "metadata": {}
        }
      ],
      "execution_count": 44,
      "metadata": {
        "execution": {
          "iopub.status.busy": "2020-12-05T21:31:01.595Z",
          "iopub.execute_input": "2020-12-05T21:31:01.610Z",
          "iopub.status.idle": "2020-12-05T21:31:01.642Z"
        }
      }
    },
    {
      "cell_type": "code",
      "source": [
        "fibonacci"
      ],
      "outputs": [
        {
          "output_type": "execute_result",
          "execution_count": 45,
          "data": {
            "text/plain": "7-element Array{Int64,1}:\n  1\n  1\n  2\n  3\n  5\n  8\n 13"
          },
          "metadata": {}
        }
      ],
      "execution_count": 45,
      "metadata": {
        "execution": {
          "iopub.status.busy": "2020-12-05T21:31:26.414Z",
          "iopub.execute_input": "2020-12-05T21:31:26.429Z",
          "iopub.status.idle": "2020-12-05T21:31:26.457Z"
        }
      }
    },
    {
      "cell_type": "markdown",
      "source": [
        "In this last example, fibonacci was not updated. Therefore we see that the arrays bound to `somemorenumbers` and `fibonacci` are distinct."
      ],
      "metadata": {}
    },
    {
      "cell_type": "markdown",
      "source": [
        "### Exercises\n",
        "\n",
        "#### 3.1 \n",
        "Create an array, `a_ray`, with the following code:\n",
        "\n",
        "```julia\n",
        "a_ray = [1, 2, 3]\n",
        "```\n",
        "\n",
        "Add the number `4` to the end of this array and then remove it."
      ],
      "metadata": {
        "collapsed": true
      }
    },
    {
      "cell_type": "code",
      "source": [
        "a_ray = [1, 2, 3]\n",
        "push!(a_ray, 4)\n",
        "println(a_ray)\n",
        "pop!(a_ray)\n",
        "println(a_ray)"
      ],
      "outputs": [
        {
          "output_type": "stream",
          "name": "stdout",
          "text": [
            "[1, 2, 3, 4]\n",
            "[1, 2, 3]\n"
          ]
        }
      ],
      "execution_count": 47,
      "metadata": {
        "execution": {
          "iopub.status.busy": "2020-12-05T21:34:13.715Z",
          "iopub.execute_input": "2020-12-05T21:34:13.732Z",
          "iopub.status.idle": "2020-12-05T21:34:13.858Z"
        }
      }
    },
    {
      "cell_type": "code",
      "source": [
        "@assert a_ray == [1, 2, 3]"
      ],
      "outputs": [],
      "execution_count": 48,
      "metadata": {
        "deletable": false,
        "editable": false,
        "hide_input": true,
        "nbgrader": {
          "checksum": "8dde7e020bc07c5762194abf5c72285c",
          "grade": true,
          "grade_id": "cell-a6b20b78fbfeb449",
          "locked": true,
          "points": 1,
          "schema_version": 1,
          "solution": false
        },
        "execution": {
          "iopub.status.busy": "2020-12-05T21:34:17.803Z",
          "iopub.execute_input": "2020-12-05T21:34:17.818Z",
          "iopub.status.idle": "2020-12-05T21:34:17.839Z"
        }
      }
    },
    {
      "cell_type": "markdown",
      "source": [
        "#### 3.2 \n",
        "Try to add \"Emergency\" as key to `myphonebook` with the value `string(911)` with the following code\n",
        "```julia\n",
        "myphonebook[\"Emergency\"] = 911\n",
        "```\n",
        "\n",
        "Why doesn't this work?"
      ],
      "metadata": {}
    },
    {
      "cell_type": "code",
      "source": [
        "myphonebook[\"Emergency\"] = string(911)"
      ],
      "outputs": [
        {
          "output_type": "execute_result",
          "execution_count": 51,
          "data": {
            "text/plain": "\"911\""
          },
          "metadata": {}
        }
      ],
      "execution_count": 51,
      "metadata": {
        "execution": {
          "iopub.status.busy": "2020-12-05T21:36:34.690Z",
          "iopub.execute_input": "2020-12-05T21:36:34.704Z",
          "iopub.status.idle": "2020-12-05T21:36:34.734Z"
        }
      }
    },
    {
      "cell_type": "markdown",
      "source": [
        "#### 3.3 \n",
        "Create a new dictionary called `flexible_phonebook` that has Jenny's number stored as an integer and Ghostbusters' number stored as a string with the following code\n",
        "\n",
        "```julia\n",
        "flexible_phonebook = Dict(\"Jenny\" => 8675309, \"Ghostbusters\" => \"555-2368\")\n",
        "```"
      ],
      "metadata": {}
    },
    {
      "cell_type": "code",
      "source": [
        "flexible_phonebook = Dict(\"Jenny\" => 8675309, \"Ghostbusters\" => \"555-2368\")\n"
      ],
      "outputs": [
        {
          "output_type": "execute_result",
          "execution_count": 52,
          "data": {
            "text/plain": "Dict{String,Any} with 2 entries:\n  \"Jenny\"        => 8675309\n  \"Ghostbusters\" => \"555-2368\""
          },
          "metadata": {}
        }
      ],
      "execution_count": 52,
      "metadata": {
        "execution": {
          "iopub.status.busy": "2020-12-05T21:43:52.318Z",
          "iopub.execute_input": "2020-12-05T21:43:52.333Z",
          "iopub.status.idle": "2020-12-05T21:43:52.773Z"
        }
      }
    },
    {
      "cell_type": "code",
      "source": [
        "@assert flexible_phonebook == Dict(\"Jenny\" => 8675309, \"Ghostbusters\" => \"555-2368\")"
      ],
      "outputs": [],
      "execution_count": 53,
      "metadata": {
        "deletable": false,
        "editable": false,
        "hide_input": true,
        "nbgrader": {
          "checksum": "4a8e1e6d6c64cf1370e0fb60a233deb9",
          "grade": true,
          "grade_id": "cell-66f1d636c676c2f2",
          "locked": true,
          "points": 1,
          "schema_version": 1,
          "solution": false
        },
        "execution": {
          "iopub.status.busy": "2020-12-05T21:43:55.830Z",
          "iopub.execute_input": "2020-12-05T21:43:55.844Z",
          "iopub.status.idle": "2020-12-05T21:43:55.862Z"
        }
      }
    },
    {
      "cell_type": "markdown",
      "source": [
        "#### 3.4 \n",
        "Add the key \"Emergency\" with the value `911` (an integer) to `flexible_phonebook`."
      ],
      "metadata": {}
    },
    {
      "cell_type": "code",
      "source": [
        "flexible_phonebook[\"Emergency\"] = 911"
      ],
      "outputs": [
        {
          "output_type": "execute_result",
          "execution_count": 54,
          "data": {
            "text/plain": "911"
          },
          "metadata": {}
        }
      ],
      "execution_count": 54,
      "metadata": {
        "execution": {
          "iopub.status.busy": "2020-12-05T21:44:46.520Z",
          "iopub.execute_input": "2020-12-05T21:44:46.537Z",
          "iopub.status.idle": "2020-12-05T21:44:46.564Z"
        }
      }
    },
    {
      "cell_type": "code",
      "source": [
        "@assert haskey(flexible_phonebook, \"Emergency\")"
      ],
      "outputs": [],
      "execution_count": 55,
      "metadata": {
        "deletable": false,
        "editable": false,
        "hide_input": true,
        "nbgrader": {
          "checksum": "e790c96d2a64c04de1d9e01eaf5ba162",
          "grade": true,
          "grade_id": "cell-ee862ab938680259",
          "locked": true,
          "points": 1,
          "schema_version": 1,
          "solution": false
        },
        "execution": {
          "iopub.status.busy": "2020-12-05T21:44:48.237Z",
          "iopub.execute_input": "2020-12-05T21:44:48.251Z",
          "iopub.status.idle": "2020-12-05T21:44:48.269Z"
        }
      }
    },
    {
      "cell_type": "code",
      "source": [
        "@assert flexible_phonebook[\"Emergency\"] == 911"
      ],
      "outputs": [],
      "execution_count": null,
      "metadata": {
        "deletable": false,
        "editable": false,
        "hide_input": true,
        "nbgrader": {
          "checksum": "356ba6c4ee4d106b41aec07039bd8495",
          "grade": true,
          "grade_id": "cell-c8c40ababe7cdfce",
          "locked": true,
          "points": 2,
          "schema_version": 1,
          "solution": false
        }
      }
    },
    {
      "cell_type": "markdown",
      "source": [
        "#### 3.5 \n",
        "Why can we add an integer as a value to `flexible_phonebook` but not `myphonebook`? How could we have initialized `myphonebook` so that it would accept integers as values?"
      ],
      "metadata": {}
    },
    {
      "cell_type": "code",
      "source": [],
      "outputs": [],
      "execution_count": null,
      "metadata": {}
    },
    {
      "cell_type": "markdown",
      "source": [
        "Please click on `Validate` button at the top, upon completion of the exercise"
      ],
      "metadata": {}
    }
  ],
  "metadata": {
    "kernelspec": {
      "display_name": "Julia 1.0.0",
      "language": "julia",
      "name": "julia-1.0"
    },
    "language_info": {
      "file_extension": ".jl",
      "name": "julia",
      "mimetype": "application/julia",
      "version": "1.5.3"
    },
    "nteract": {
      "version": "0.27.0"
    }
  },
  "nbformat": 4,
  "nbformat_minor": 2
}