{
  "cells": [
    {
      "cell_type": "markdown",
      "source": [
        "# Getting started\n",
        "\n",
        "Topics:\n",
        "1.  How to print\n",
        "2. How to assign variables\n",
        "3. How to comment\n",
        "4. Syntax for basic math"
      ],
      "metadata": {}
    },
    {
      "cell_type": "markdown",
      "source": [
        "## How to print\n",
        "\n",
        "In Julia we usually use `println()` to print"
      ],
      "metadata": {}
    },
    {
      "cell_type": "code",
      "source": [
        "println(\"I'm excited to learn Julia!\")"
      ],
      "outputs": [
        {
          "output_type": "stream",
          "name": "stdout",
          "text": [
            "I'm excited to learn Julia!\n"
          ]
        }
      ],
      "execution_count": 45,
      "metadata": {
        "execution": {
          "iopub.status.busy": "2020-12-05T10:44:05.297Z",
          "iopub.execute_input": "2020-12-05T10:44:05.304Z",
          "iopub.status.idle": "2020-12-05T10:44:05.317Z"
        }
      }
    },
    {
      "cell_type": "markdown",
      "source": [
        "## How to assign variables\n",
        "\n",
        "All we need is a variable name, value, and an equal's sign!<br>\n",
        "Julia will figure out types for us."
      ],
      "metadata": {}
    },
    {
      "cell_type": "code",
      "source": [
        "my_answer = 42\n",
        "typeof(my_answer)\n",
        "my_name =     \"Ahmet !\"\n",
        "typeof(my_name)\n",
        "\n",
        "\n",
        "my_answer = my_name\n",
        "typeof(my_answer)"
      ],
      "outputs": [
        {
          "output_type": "execute_result",
          "execution_count": 46,
          "data": {
            "text/plain": "String"
          },
          "metadata": {}
        }
      ],
      "execution_count": 46,
      "metadata": {
        "execution": {
          "iopub.status.busy": "2020-12-05T10:44:05.327Z",
          "iopub.execute_input": "2020-12-05T10:44:05.333Z",
          "iopub.status.idle": "2020-12-05T10:44:05.347Z"
        }
      }
    },
    {
      "cell_type": "code",
      "source": [
        "my_pi = 3.14159\n",
        "typeof(my_pi)"
      ],
      "outputs": [
        {
          "output_type": "execute_result",
          "execution_count": 47,
          "data": {
            "text/plain": "Float64"
          },
          "metadata": {}
        }
      ],
      "execution_count": 47,
      "metadata": {
        "execution": {
          "iopub.status.busy": "2020-12-05T10:44:05.357Z",
          "iopub.execute_input": "2020-12-05T10:44:05.363Z",
          "iopub.status.idle": "2020-12-05T10:44:05.377Z"
        }
      }
    },
    {
      "cell_type": "code",
      "source": [
        "😺 = \"smiley cat!\"\n",
        "typeof(😺)"
      ],
      "outputs": [
        {
          "output_type": "execute_result",
          "execution_count": 48,
          "data": {
            "text/plain": "String"
          },
          "metadata": {}
        }
      ],
      "execution_count": 48,
      "metadata": {
        "execution": {
          "iopub.status.busy": "2020-12-05T10:44:05.388Z",
          "iopub.execute_input": "2020-12-05T10:44:05.394Z",
          "iopub.status.idle": "2020-12-05T10:44:05.408Z"
        }
      }
    },
    {
      "cell_type": "markdown",
      "source": [
        "To type a smiley cat, use tab completion to select the emoji name and then tab again"
      ],
      "metadata": {}
    },
    {
      "cell_type": "code",
      "source": [
        "# \\:smi + <tab> --> select with down arrow + <enter> ---> <tab> + <enter> to complete"
      ],
      "outputs": [],
      "execution_count": 49,
      "metadata": {
        "execution": {
          "iopub.status.busy": "2020-12-05T10:44:05.418Z",
          "iopub.execute_input": "2020-12-05T10:44:05.424Z",
          "iopub.status.idle": "2020-12-05T10:44:05.435Z"
        }
      }
    },
    {
      "cell_type": "markdown",
      "source": [
        "After assigning a value to a variable, we can reassign a value of a different type to that variable without any issue."
      ],
      "metadata": {}
    },
    {
      "cell_type": "code",
      "source": [
        "😺 = 1"
      ],
      "outputs": [
        {
          "output_type": "execute_result",
          "execution_count": 50,
          "data": {
            "text/plain": "1"
          },
          "metadata": {}
        }
      ],
      "execution_count": 50,
      "metadata": {
        "execution": {
          "iopub.status.busy": "2020-12-05T10:44:05.445Z",
          "iopub.execute_input": "2020-12-05T10:44:05.451Z",
          "iopub.status.idle": "2020-12-05T10:44:05.465Z"
        }
      }
    },
    {
      "cell_type": "code",
      "source": [
        "typeof(😺)"
      ],
      "outputs": [
        {
          "output_type": "execute_result",
          "execution_count": 51,
          "data": {
            "text/plain": "Int64"
          },
          "metadata": {}
        }
      ],
      "execution_count": 51,
      "metadata": {
        "execution": {
          "iopub.status.busy": "2020-12-05T10:44:05.475Z",
          "iopub.execute_input": "2020-12-05T10:44:05.482Z",
          "iopub.status.idle": "2020-12-05T10:44:05.497Z"
        }
      }
    },
    {
      "cell_type": "markdown",
      "source": [
        "Note: Julia allows us to write super generic code, and 😺 is an example of this. \n",
        "\n",
        "This allows us to write code like"
      ],
      "metadata": {}
    },
    {
      "cell_type": "code",
      "source": [
        "😀 = 0\n",
        "😞 = -1"
      ],
      "outputs": [
        {
          "output_type": "execute_result",
          "execution_count": 52,
          "data": {
            "text/plain": "-1"
          },
          "metadata": {}
        }
      ],
      "execution_count": 52,
      "metadata": {
        "execution": {
          "iopub.status.busy": "2020-12-05T10:44:05.507Z",
          "iopub.execute_input": "2020-12-05T10:44:05.513Z",
          "iopub.status.idle": "2020-12-05T10:44:05.527Z"
        }
      }
    },
    {
      "cell_type": "code",
      "source": [
        "😺 + 😞 == 😀"
      ],
      "outputs": [
        {
          "output_type": "execute_result",
          "execution_count": 53,
          "data": {
            "text/plain": "true"
          },
          "metadata": {}
        }
      ],
      "execution_count": 53,
      "metadata": {
        "execution": {
          "iopub.status.busy": "2020-12-05T10:44:05.538Z",
          "iopub.execute_input": "2020-12-05T10:44:05.544Z",
          "iopub.status.idle": "2020-12-05T10:44:05.557Z"
        }
      }
    },
    {
      "cell_type": "markdown",
      "source": [
        "## How to comment"
      ],
      "metadata": {}
    },
    {
      "cell_type": "code",
      "source": [
        "# You can leave comments on a single line using the pound/hash key"
      ],
      "outputs": [],
      "execution_count": 54,
      "metadata": {
        "execution": {
          "iopub.status.busy": "2020-12-05T10:44:05.568Z",
          "iopub.execute_input": "2020-12-05T10:44:05.575Z",
          "iopub.status.idle": "2020-12-05T10:44:05.585Z"
        }
      }
    },
    {
      "cell_type": "code",
      "source": [
        "#=\n",
        "\n",
        "For multi-line comments, \n",
        "use the '#= =#' sequence.\n",
        "\n",
        "=#"
      ],
      "outputs": [],
      "execution_count": 55,
      "metadata": {
        "execution": {
          "iopub.status.busy": "2020-12-05T10:44:05.595Z",
          "iopub.execute_input": "2020-12-05T10:44:05.601Z",
          "iopub.status.idle": "2020-12-05T10:44:05.612Z"
        }
      }
    },
    {
      "cell_type": "markdown",
      "source": [
        "## Syntax for basic math"
      ],
      "metadata": {}
    },
    {
      "cell_type": "code",
      "source": [
        "sum = 3 + 7"
      ],
      "outputs": [
        {
          "output_type": "execute_result",
          "execution_count": 56,
          "data": {
            "text/plain": "10"
          },
          "metadata": {}
        }
      ],
      "execution_count": 56,
      "metadata": {
        "execution": {
          "iopub.status.busy": "2020-12-05T10:44:05.621Z",
          "iopub.execute_input": "2020-12-05T10:44:05.628Z",
          "iopub.status.idle": "2020-12-05T10:44:05.645Z"
        }
      }
    },
    {
      "cell_type": "code",
      "source": [
        "difference = 10 - 3\n",
        "typeof(difference)"
      ],
      "outputs": [
        {
          "output_type": "execute_result",
          "execution_count": 57,
          "data": {
            "text/plain": "Int64"
          },
          "metadata": {}
        }
      ],
      "execution_count": 57,
      "metadata": {
        "execution": {
          "iopub.status.busy": "2020-12-05T10:44:05.656Z",
          "iopub.execute_input": "2020-12-05T10:44:05.663Z",
          "iopub.status.idle": "2020-12-05T10:44:05.677Z"
        }
      }
    },
    {
      "cell_type": "code",
      "source": [
        "product = 20 * 5\n",
        "typeof(product)"
      ],
      "outputs": [
        {
          "output_type": "execute_result",
          "execution_count": 58,
          "data": {
            "text/plain": "Int64"
          },
          "metadata": {}
        }
      ],
      "execution_count": 58,
      "metadata": {
        "execution": {
          "iopub.status.busy": "2020-12-05T10:44:05.687Z",
          "iopub.execute_input": "2020-12-05T10:44:05.694Z",
          "iopub.status.idle": "2020-12-05T10:44:05.708Z"
        }
      }
    },
    {
      "cell_type": "code",
      "source": [
        "quotient = 100 / 10\n",
        "typeof(quotient)"
      ],
      "outputs": [
        {
          "output_type": "execute_result",
          "execution_count": 59,
          "data": {
            "text/plain": "Float64"
          },
          "metadata": {}
        }
      ],
      "execution_count": 59,
      "metadata": {
        "execution": {
          "iopub.status.busy": "2020-12-05T10:44:05.722Z",
          "iopub.execute_input": "2020-12-05T10:44:05.740Z",
          "iopub.status.idle": "2020-12-05T10:44:05.755Z"
        }
      }
    },
    {
      "cell_type": "code",
      "source": [
        "power = 5 ^ 2 ^ 3"
      ],
      "outputs": [
        {
          "output_type": "execute_result",
          "execution_count": 60,
          "data": {
            "text/plain": "390625"
          },
          "metadata": {}
        }
      ],
      "execution_count": 60,
      "metadata": {
        "execution": {
          "iopub.status.busy": "2020-12-05T10:44:05.764Z",
          "iopub.execute_input": "2020-12-05T10:44:05.771Z",
          "iopub.status.idle": "2020-12-05T10:44:05.785Z"
        }
      }
    },
    {
      "cell_type": "code",
      "source": [
        "modulus = 101 % 2"
      ],
      "outputs": [
        {
          "output_type": "execute_result",
          "execution_count": 61,
          "data": {
            "text/plain": "1"
          },
          "metadata": {}
        }
      ],
      "execution_count": 61,
      "metadata": {
        "execution": {
          "iopub.status.busy": "2020-12-05T10:44:05.795Z",
          "iopub.execute_input": "2020-12-05T10:44:05.802Z",
          "iopub.status.idle": "2020-12-05T10:44:05.816Z"
        }
      }
    },
    {
      "cell_type": "markdown",
      "source": [
        "\n",
        "#### 1.1 \n",
        "Look up docs for the `convert` function."
      ],
      "metadata": {}
    },
    {
      "cell_type": "code",
      "source": [
        "?convert"
      ],
      "outputs": [
        {
          "output_type": "stream",
          "name": "stdout",
          "text": [
            "search: \u001b[0m\u001b[1mc\u001b[22m\u001b[0m\u001b[1mo\u001b[22m\u001b[0m\u001b[1mn\u001b[22m\u001b[0m\u001b[1mv\u001b[22m\u001b[0m\u001b[1me\u001b[22m\u001b[0m\u001b[1mr\u001b[22m\u001b[0m\u001b[1mt\u001b[22m \u001b[0m\u001b[1mc\u001b[22m\u001b[0m\u001b[1mo\u001b[22mde_\u001b[0m\u001b[1mn\u001b[22mati\u001b[0m\u001b[1mv\u001b[22m\u001b[0m\u001b[1me\u001b[22m @\u001b[0m\u001b[1mc\u001b[22m\u001b[0m\u001b[1mo\u001b[22mde_\u001b[0m\u001b[1mn\u001b[22mati\u001b[0m\u001b[1mv\u001b[22m\u001b[0m\u001b[1me\u001b[22m\n",
            "\n"
          ]
        },
        {
          "output_type": "execute_result",
          "execution_count": 62,
          "data": {
            "text/plain": "\u001b[36m  convert(T, x)\u001b[39m\n\n  Convert \u001b[36mx\u001b[39m to a value of type \u001b[36mT\u001b[39m.\n\n  If \u001b[36mT\u001b[39m is an \u001b[36mInteger\u001b[39m type, an \u001b[36mInexactError\u001b[39m will be raised if \u001b[36mx\u001b[39m is not\n  representable by \u001b[36mT\u001b[39m, for example if \u001b[36mx\u001b[39m is not integer-valued, or is outside\n  the range supported by \u001b[36mT\u001b[39m.\n\n\u001b[1m  Examples\u001b[22m\n\u001b[1m  ≡≡≡≡≡≡≡≡≡≡\u001b[22m\n\n\u001b[36m  julia> convert(Int, 3.0)\u001b[39m\n\u001b[36m  3\u001b[39m\n\u001b[36m  \u001b[39m\n\u001b[36m  julia> convert(Int, 3.5)\u001b[39m\n\u001b[36m  ERROR: InexactError: Int64(3.5)\u001b[39m\n\u001b[36m  Stacktrace:\u001b[39m\n\u001b[36m  [...]\u001b[39m\n\n  If \u001b[36mT\u001b[39m is a \u001b[36mAbstractFloat\u001b[39m or \u001b[36mRational\u001b[39m type, then it will return the closest\n  value to \u001b[36mx\u001b[39m representable by \u001b[36mT\u001b[39m.\n\n\u001b[36m  julia> x = 1/3\u001b[39m\n\u001b[36m  0.3333333333333333\u001b[39m\n\u001b[36m  \u001b[39m\n\u001b[36m  julia> convert(Float32, x)\u001b[39m\n\u001b[36m  0.33333334f0\u001b[39m\n\u001b[36m  \u001b[39m\n\u001b[36m  julia> convert(Rational{Int32}, x)\u001b[39m\n\u001b[36m  1//3\u001b[39m\n\u001b[36m  \u001b[39m\n\u001b[36m  julia> convert(Rational{Int64}, x)\u001b[39m\n\u001b[36m  6004799503160661//18014398509481984\u001b[39m\n\n  If \u001b[36mT\u001b[39m is a collection type and \u001b[36mx\u001b[39m a collection, the result of \u001b[36mconvert(T, x)\u001b[39m\n  may alias all or part of \u001b[36mx\u001b[39m.\n\n\u001b[36m  julia> x = Int[1, 2, 3];\u001b[39m\n\u001b[36m  \u001b[39m\n\u001b[36m  julia> y = convert(Vector{Int}, x);\u001b[39m\n\u001b[36m  \u001b[39m\n\u001b[36m  julia> y === x\u001b[39m\n\u001b[36m  true\u001b[39m",
            "text/markdown": "```\nconvert(T, x)\n```\n\nConvert `x` to a value of type `T`.\n\nIf `T` is an [`Integer`](@ref) type, an [`InexactError`](@ref) will be raised if `x` is not representable by `T`, for example if `x` is not integer-valued, or is outside the range supported by `T`.\n\n# Examples\n\n```jldoctest\njulia> convert(Int, 3.0)\n3\n\njulia> convert(Int, 3.5)\nERROR: InexactError: Int64(3.5)\nStacktrace:\n[...]\n```\n\nIf `T` is a [`AbstractFloat`](@ref) or [`Rational`](@ref) type, then it will return the closest value to `x` representable by `T`.\n\n```jldoctest\njulia> x = 1/3\n0.3333333333333333\n\njulia> convert(Float32, x)\n0.33333334f0\n\njulia> convert(Rational{Int32}, x)\n1//3\n\njulia> convert(Rational{Int64}, x)\n6004799503160661//18014398509481984\n```\n\nIf `T` is a collection type and `x` a collection, the result of `convert(T, x)` may alias all or part of `x`.\n\n```jldoctest\njulia> x = Int[1, 2, 3];\n\njulia> y = convert(Vector{Int}, x);\n\njulia> y === x\ntrue\n```\n",
            "text/latex": "\\begin{verbatim}\nconvert(T, x)\n\\end{verbatim}\nConvert \\texttt{x} to a value of type \\texttt{T}.\n\nIf \\texttt{T} is an \\href{@ref}{\\texttt{Integer}} type, an \\href{@ref}{\\texttt{InexactError}} will be raised if \\texttt{x} is not representable by \\texttt{T}, for example if \\texttt{x} is not integer-valued, or is outside the range supported by \\texttt{T}.\n\n\\section{Examples}\n\\begin{verbatim}\njulia> convert(Int, 3.0)\n3\n\njulia> convert(Int, 3.5)\nERROR: InexactError: Int64(3.5)\nStacktrace:\n[...]\n\\end{verbatim}\nIf \\texttt{T} is a \\href{@ref}{\\texttt{AbstractFloat}} or \\href{@ref}{\\texttt{Rational}} type, then it will return the closest value to \\texttt{x} representable by \\texttt{T}.\n\n\\begin{verbatim}\njulia> x = 1/3\n0.3333333333333333\n\njulia> convert(Float32, x)\n0.33333334f0\n\njulia> convert(Rational{Int32}, x)\n1//3\n\njulia> convert(Rational{Int64}, x)\n6004799503160661//18014398509481984\n\\end{verbatim}\nIf \\texttt{T} is a collection type and \\texttt{x} a collection, the result of \\texttt{convert(T, x)} may alias all or part of \\texttt{x}.\n\n\\begin{verbatim}\njulia> x = Int[1, 2, 3];\n\njulia> y = convert(Vector{Int}, x);\n\njulia> y === x\ntrue\n\\end{verbatim}\n"
          },
          "metadata": {}
        }
      ],
      "execution_count": 62,
      "metadata": {
        "execution": {
          "iopub.status.busy": "2020-12-05T10:44:05.826Z",
          "iopub.execute_input": "2020-12-05T10:44:05.833Z",
          "iopub.status.idle": "2020-12-05T10:44:05.856Z"
        }
      }
    },
    {
      "cell_type": "markdown",
      "source": [
        "#### 1.2 \n",
        "Assign `365` to a variable named `days`. Convert `days` to a float and assign it to variable `days_float`"
      ],
      "metadata": {}
    },
    {
      "cell_type": "code",
      "source": [
        "days = 365; days_float = convert(Float64, days)\n"
      ],
      "outputs": [
        {
          "output_type": "execute_result",
          "execution_count": 63,
          "data": {
            "text/plain": "365.0"
          },
          "metadata": {}
        }
      ],
      "execution_count": 63,
      "metadata": {
        "execution": {
          "iopub.status.busy": "2020-12-05T10:44:05.867Z",
          "iopub.execute_input": "2020-12-05T10:44:05.874Z",
          "iopub.status.idle": "2020-12-05T10:44:05.889Z"
        }
      }
    },
    {
      "cell_type": "code",
      "source": [
        "@assert days == 365\n",
        "@assert days_float == 365.0\n"
      ],
      "outputs": [],
      "execution_count": 64,
      "metadata": {
        "deletable": false,
        "editable": false,
        "hide_input": true,
        "nbgrader": {
          "checksum": "a2dc243275e0310c3b29a745b952f321",
          "grade": true,
          "grade_id": "cell-715f78016beb0489",
          "locked": true,
          "points": 1,
          "schema_version": 1,
          "solution": false
        },
        "execution": {
          "iopub.status.busy": "2020-12-05T10:44:05.899Z",
          "iopub.execute_input": "2020-12-05T10:44:05.905Z",
          "iopub.status.idle": "2020-12-05T10:44:05.916Z"
        }
      }
    },
    {
      "cell_type": "markdown",
      "source": [
        "#### 1.3 \n",
        "See what happens when you execute\n",
        "\n",
        "```julia\n",
        "convert(Int64, \"1\")\n",
        "```\n",
        "and\n",
        "\n",
        "```julia\n",
        "parse(Int64, \"1\")\n",
        "```"
      ],
      "metadata": {}
    },
    {
      "cell_type": "code",
      "source": [
        "# convert(Int64, \"1\")\n",
        "result = parse(Int64, \"1.0\")\n",
        "typeof(result)\n",
        "result"
      ],
      "outputs": [
        {
          "output_type": "error",
          "ename": "LoadError",
          "evalue": "ArgumentError: invalid base 10 digit '.' in \"1.0\"",
          "traceback": [
            "ArgumentError: invalid base 10 digit '.' in \"1.0\"",
            "",
            "Stacktrace:",
            " [1] tryparse_internal(::Type{Int64}, ::String, ::Int64, ::Int64, ::Int64, ::Bool) at .\\parse.jl:132",
            " [2] parse(::Type{Int64}, ::String; base::Nothing) at .\\parse.jl:238",
            " [3] parse(::Type{Int64}, ::String) at .\\parse.jl:238",
            " [4] top-level scope at In[69]:2",
            " [5] include_string(::Function, ::Module, ::String, ::String) at .\\loading.jl:1091"
          ]
        }
      ],
      "execution_count": 69,
      "metadata": {
        "execution": {
          "iopub.status.busy": "2020-12-05T10:45:20.510Z",
          "iopub.execute_input": "2020-12-05T10:45:20.519Z",
          "iopub.status.idle": "2020-12-05T10:45:06.997Z"
        }
      }
    },
    {
      "cell_type": "code",
      "source": [
        "Please click on `Validate` on the top, once you are done with the exercises."
      ],
      "outputs": [],
      "execution_count": null,
      "metadata": {
        "execution": {
          "iopub.status.busy": "2020-12-05T10:37:43.624Z",
          "iopub.execute_input": "2020-12-05T10:37:43.635Z"
        }
      }
    }
  ],
  "metadata": {
    "kernelspec": {
      "display_name": "Julia 1.0.0",
      "language": "julia",
      "name": "julia-1.0"
    },
    "language_info": {
      "file_extension": ".jl",
      "name": "julia",
      "mimetype": "application/julia",
      "version": "1.5.3"
    },
    "nteract": {
      "version": "0.27.0"
    }
  },
  "nbformat": 4,
  "nbformat_minor": 2
}