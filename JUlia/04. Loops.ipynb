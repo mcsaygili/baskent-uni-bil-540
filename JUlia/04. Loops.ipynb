{
  "cells": [
    {
      "cell_type": "markdown",
      "source": [
        "# Loops\n",
        "\n",
        "Topics:\n",
        "1. `while` loops\n",
        "2. `for` loops\n",
        "<br>\n",
        "\n",
        "## while loops\n",
        "\n",
        "The syntax for a `while` is\n",
        "\n",
        "```julia\n",
        "while *condition*\n",
        "    *loop body*\n",
        "end\n",
        "```\n",
        "\n",
        "For example, we could use `while` to count or to iterate over an array."
      ],
      "metadata": {
        "collapsed": true
      }
    },
    {
      "cell_type": "code",
      "source": [
        "n = 0\n",
        "while n < 10\n",
        "    n += 1\n",
        "    println(n)\n",
        "end\n",
        "n"
      ],
      "outputs": [
        {
          "output_type": "stream",
          "name": "stdout",
          "text": [
            "1\n",
            "2\n",
            "3\n",
            "4\n",
            "5\n",
            "6\n",
            "7\n",
            "8\n",
            "9\n",
            "10\n"
          ]
        },
        {
          "output_type": "execute_result",
          "execution_count": 3,
          "data": {
            "text/plain": "10"
          },
          "metadata": {}
        }
      ],
      "execution_count": 3,
      "metadata": {
        "execution": {
          "iopub.status.busy": "2020-12-06T08:35:48.368Z",
          "iopub.execute_input": "2020-12-06T08:35:48.376Z",
          "iopub.status.idle": "2020-12-06T08:35:48.398Z"
        }
      }
    },
    {
      "cell_type": "code",
      "source": [
        "myfriends = [\"Ted\", \"Robyn\", \"Barney\", \"Lily\", \"Marshall\"]\n",
        "\n",
        "i = 1\n",
        "while i <= length(myfriends)\n",
        "    friend = myfriends[i]\n",
        "    println(\"Hi $friend, it's great to see you!\")\n",
        "    i += 1\n",
        "end"
      ],
      "outputs": [
        {
          "output_type": "stream",
          "name": "stdout",
          "text": [
            "Hi Ted, it's great to see you!\n",
            "Hi Robyn, it's great to see you!\n",
            "Hi Barney, it's great to see you!\n",
            "Hi Lily, it's great to see you!\n",
            "Hi Marshall, it's great to see you!\n"
          ]
        }
      ],
      "execution_count": 1,
      "metadata": {
        "execution": {
          "iopub.status.busy": "2020-12-16T16:50:20.961Z",
          "iopub.execute_input": "2020-12-16T16:50:21.377Z",
          "iopub.status.idle": "2020-12-16T16:50:21.546Z"
        }
      }
    },
    {
      "cell_type": "markdown",
      "source": [
        "## for loops\n",
        "\n",
        "The syntax for a `for` loop is\n",
        "\n",
        "```julia\n",
        "for *var* in *loop iterable*\n",
        "    *loop body*\n",
        "end\n",
        "```\n",
        "\n",
        "We could use a for loop to generate the same results as either of the examples above:"
      ],
      "metadata": {}
    },
    {
      "cell_type": "code",
      "source": [
        "for n in 1:10\n",
        "    println(n)\n",
        "end"
      ],
      "outputs": [
        {
          "output_type": "stream",
          "name": "stdout",
          "text": [
            "1\n",
            "2\n",
            "3\n",
            "4\n",
            "5\n",
            "6\n",
            "7\n",
            "8\n",
            "9\n",
            "10\n"
          ]
        }
      ],
      "execution_count": 5,
      "metadata": {
        "execution": {
          "iopub.status.busy": "2020-12-06T08:36:40.845Z",
          "iopub.execute_input": "2020-12-06T08:36:40.853Z",
          "iopub.status.idle": "2020-12-06T08:36:40.875Z"
        }
      }
    },
    {
      "cell_type": "code",
      "source": [
        "myfriends = [\"Ted\", \"Robyn\", \"Barney\", \"Lily\", \"Marshall\"]\n",
        "\n",
        "for friend in myfriends\n",
        "    println(\"Hi $friend, it's great to see you!\")\n",
        "end"
      ],
      "outputs": [
        {
          "output_type": "stream",
          "name": "stdout",
          "text": [
            "Hi Ted, it's great to see you!\n",
            "Hi Robyn, it's great to see you!\n",
            "Hi Barney, it's great to see you!\n",
            "Hi Lily, it's great to see you!\n",
            "Hi Marshall, it's great to see you!\n"
          ]
        }
      ],
      "execution_count": 6,
      "metadata": {
        "execution": {
          "iopub.status.busy": "2020-12-06T08:37:10.267Z",
          "iopub.execute_input": "2020-12-06T08:37:10.278Z",
          "iopub.status.idle": "2020-12-06T08:37:10.303Z"
        }
      }
    },
    {
      "cell_type": "markdown",
      "source": [
        "Now let's use `for` loops to create some addition tables, where the value of every entry is the sum of its row and column indices. <br>\n",
        "\n",
        "Note that we iterate over this array via column-major loops in order to get the best performance. More information about fast indexing of multidimensional arrays inside nested loops can be found at https://docs.julialang.org/en/v1/manual/performance-tips/#Access-arrays-in-memory-order,-along-columns-1\n",
        "\n",
        "First, we initialize an array with zeros."
      ],
      "metadata": {}
    },
    {
      "cell_type": "code",
      "source": [
        "m, n = 5, 5\n",
        "A = fill(0, (m, n))"
      ],
      "outputs": [
        {
          "output_type": "execute_result",
          "execution_count": 7,
          "data": {
            "text/plain": "5×5 Array{Int64,2}:\n 0  0  0  0  0\n 0  0  0  0  0\n 0  0  0  0  0\n 0  0  0  0  0\n 0  0  0  0  0"
          },
          "metadata": {}
        }
      ],
      "execution_count": 7,
      "metadata": {
        "execution": {
          "iopub.status.busy": "2020-12-06T08:39:03.845Z",
          "iopub.execute_input": "2020-12-06T08:39:03.853Z",
          "iopub.status.idle": "2020-12-06T08:39:04.701Z"
        }
      }
    },
    {
      "cell_type": "code",
      "source": [
        "for j in 1:n\n",
        "    for i in 1:m\n",
        "        A[i, j] = i + j\n",
        "    end\n",
        "end\n",
        "A"
      ],
      "outputs": [
        {
          "output_type": "execute_result",
          "execution_count": 8,
          "data": {
            "text/plain": "5×5 Array{Int64,2}:\n 2  3  4  5   6\n 3  4  5  6   7\n 4  5  6  7   8\n 5  6  7  8   9\n 6  7  8  9  10"
          },
          "metadata": {}
        }
      ],
      "execution_count": 8,
      "metadata": {
        "execution": {
          "iopub.status.busy": "2020-12-06T08:39:54.318Z",
          "iopub.execute_input": "2020-12-06T08:39:54.330Z",
          "iopub.status.idle": "2020-12-06T08:39:54.349Z"
        }
      }
    },
    {
      "cell_type": "markdown",
      "source": [
        "Here's some syntactic sugar for the same nested `for` loop"
      ],
      "metadata": {}
    },
    {
      "cell_type": "code",
      "source": [
        "B = fill(0, (m, n))"
      ],
      "outputs": [
        {
          "output_type": "execute_result",
          "execution_count": 9,
          "data": {
            "text/plain": "5×5 Array{Int64,2}:\n 0  0  0  0  0\n 0  0  0  0  0\n 0  0  0  0  0\n 0  0  0  0  0\n 0  0  0  0  0"
          },
          "metadata": {}
        }
      ],
      "execution_count": 9,
      "metadata": {
        "execution": {
          "iopub.status.busy": "2020-12-06T08:40:36.699Z",
          "iopub.execute_input": "2020-12-06T08:40:36.710Z",
          "iopub.status.idle": "2020-12-06T08:40:36.731Z"
        }
      }
    },
    {
      "cell_type": "code",
      "source": [
        "for j in 1:n, i in 1:m\n",
        "    B[i, j] = i + j\n",
        "end\n",
        "B"
      ],
      "outputs": [
        {
          "output_type": "execute_result",
          "execution_count": 10,
          "data": {
            "text/plain": "5×5 Array{Int64,2}:\n 2  3  4  5   6\n 3  4  5  6   7\n 4  5  6  7   8\n 5  6  7  8   9\n 6  7  8  9  10"
          },
          "metadata": {}
        }
      ],
      "execution_count": 10,
      "metadata": {
        "execution": {
          "iopub.status.busy": "2020-12-06T08:41:02.761Z",
          "iopub.execute_input": "2020-12-06T08:41:02.772Z",
          "iopub.status.idle": "2020-12-06T08:41:02.786Z"
        }
      }
    },
    {
      "cell_type": "markdown",
      "source": [
        "The more \"Julia\" way to create this addition table would have been with an *array comprehension*."
      ],
      "metadata": {}
    },
    {
      "cell_type": "code",
      "source": [
        "C = [i + j for i in 1:m, j in 1:n]"
      ],
      "outputs": [
        {
          "output_type": "execute_result",
          "execution_count": 11,
          "data": {
            "text/plain": "5×5 Array{Int64,2}:\n 2  3  4  5   6\n 3  4  5  6   7\n 4  5  6  7   8\n 5  6  7  8   9\n 6  7  8  9  10"
          },
          "metadata": {}
        }
      ],
      "execution_count": 11,
      "metadata": {
        "execution": {
          "iopub.status.busy": "2020-12-06T08:45:57.220Z",
          "iopub.execute_input": "2020-12-06T08:45:57.232Z",
          "iopub.status.idle": "2020-12-06T08:45:57.274Z"
        }
      }
    },
    {
      "cell_type": "markdown",
      "source": [
        "### Exercises\n",
        "\n",
        "#### 4.1 \n",
        "Loop over integers between 1 and 100 and print their squares."
      ],
      "metadata": {}
    },
    {
      "cell_type": "code",
      "source": [
        "for i "
      ],
      "outputs": [],
      "execution_count": null,
      "metadata": {}
    },
    {
      "cell_type": "markdown",
      "source": [
        "#### 4.2 \n",
        "Add to the code above a bit to create a dictionary, `squares` that holds integers and their squares as key, value pairs such that\n",
        "\n",
        "```julia\n",
        "squares[10] == 100\n",
        "```"
      ],
      "metadata": {}
    },
    {
      "cell_type": "code",
      "source": [],
      "outputs": [],
      "execution_count": null,
      "metadata": {}
    },
    {
      "cell_type": "code",
      "source": [
        "@assert squares[10] == 100\n",
        "@assert squares[11] == 121"
      ],
      "outputs": [],
      "execution_count": null,
      "metadata": {
        "deletable": false,
        "editable": false,
        "hide_input": true,
        "nbgrader": {
          "checksum": "3e96c8051261bb7e0da6df69d54fbe89",
          "grade": true,
          "grade_id": "cell-54834a2e4e122b70",
          "locked": true,
          "points": 1,
          "schema_version": 1,
          "solution": false
        }
      }
    },
    {
      "cell_type": "markdown",
      "source": [
        "#### 4.3 \n",
        "Use an array comprehension to create an an array `squares_arr` that stores the squares for all integers between 1 and 100."
      ],
      "metadata": {
        "collapsed": true
      }
    },
    {
      "cell_type": "code",
      "source": [],
      "outputs": [],
      "execution_count": null,
      "metadata": {}
    },
    {
      "cell_type": "code",
      "source": [
        "@assert length(squares_arr) == 100\n",
        "@assert sum(squares_arr) == 338350"
      ],
      "outputs": [],
      "execution_count": null,
      "metadata": {
        "deletable": false,
        "editable": false,
        "hide_input": true,
        "nbgrader": {
          "checksum": "f0331aaa26a8ec9bc2e637073115083c",
          "grade": true,
          "grade_id": "cell-17d4631c51b8b4f7",
          "locked": true,
          "points": 1,
          "schema_version": 1,
          "solution": false
        }
      }
    },
    {
      "cell_type": "markdown",
      "source": [
        "Please click on `Validate` on the top, once you are done with the exercises."
      ],
      "metadata": {}
    }
  ],
  "metadata": {
    "kernelspec": {
      "display_name": "Julia 1.0.0",
      "language": "julia",
      "name": "julia-1.0"
    },
    "language_info": {
      "file_extension": ".jl",
      "name": "julia",
      "mimetype": "application/julia",
      "version": "1.5.3"
    },
    "nteract": {
      "version": "0.27.0"
    }
  },
  "nbformat": 4,
  "nbformat_minor": 2
}