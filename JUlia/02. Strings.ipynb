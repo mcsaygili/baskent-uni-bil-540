{
  "cells": [
    {
      "cell_type": "markdown",
      "source": [
        "# Strings\n",
        "\n",
        "Topics:\n",
        "1. How to get a string\n",
        "2. String interpolation\n",
        "3. String concatenation"
      ],
      "metadata": {
        "collapsed": true
      }
    },
    {
      "cell_type": "markdown",
      "source": [
        "## How to get a string\n",
        "\n",
        "Enclose your characters in \" \" or \"\"\" \"\"\"!"
      ],
      "metadata": {}
    },
    {
      "cell_type": "code",
      "source": [
        "s1 = \"I am a string.\""
      ],
      "outputs": [
        {
          "output_type": "execute_result",
          "execution_count": 1,
          "data": {
            "text/plain": "\"I am a string.\""
          },
          "metadata": {}
        }
      ],
      "execution_count": 1,
      "metadata": {
        "execution": {
          "iopub.status.busy": "2020-12-05T11:01:45.052Z",
          "iopub.execute_input": "2020-12-05T11:01:45.463Z",
          "iopub.status.idle": "2020-12-05T11:01:45.966Z"
        }
      }
    },
    {
      "cell_type": "code",
      "source": [
        "s2 = \"\"\"I am also a string. \"\"\""
      ],
      "outputs": [
        {
          "output_type": "execute_result",
          "execution_count": 2,
          "data": {
            "text/plain": "\"I am also a string. \""
          },
          "metadata": {}
        }
      ],
      "execution_count": 2,
      "metadata": {
        "execution": {
          "iopub.status.busy": "2020-12-05T11:02:47.859Z",
          "iopub.execute_input": "2020-12-05T11:02:47.869Z",
          "iopub.status.idle": "2020-12-05T11:02:47.935Z"
        }
      }
    },
    {
      "cell_type": "markdown",
      "source": [
        "There are a couple functional differences between strings enclosed in single and triple quotes. <br>\n",
        "One difference is that, in the latter case, you can use quotation marks within your string."
      ],
      "metadata": {}
    },
    {
      "cell_type": "code",
      "source": [
        "\"Here, we get an \"error\" because it's ambiguous where this string ends \""
      ],
      "outputs": [
        {
          "output_type": "error",
          "ename": "LoadError",
          "evalue": "syntax: cannot juxtapose string literal",
          "traceback": [
            "syntax: cannot juxtapose string literal",
            "",
            "Stacktrace:",
            " [1] top-level scope at In[3]:1",
            " [2] include_string(::Function, ::Module, ::String, ::String) at .\\loading.jl:1091"
          ]
        }
      ],
      "execution_count": 3,
      "metadata": {
        "execution": {
          "iopub.status.busy": "2020-12-05T11:02:53.087Z",
          "iopub.execute_input": "2020-12-05T11:02:53.096Z"
        }
      }
    },
    {
      "cell_type": "code",
      "source": [
        "s2 = \"\"\"Triple-quotes\" string example for \"strings that contain quotes\".\"\"\""
      ],
      "outputs": [
        {
          "output_type": "execute_result",
          "execution_count": 11,
          "data": {
            "text/plain": "\"Triple-quotes\\\" string example for \\\"strings that contain quotes\\\".\""
          },
          "metadata": {}
        }
      ],
      "execution_count": 11,
      "metadata": {
        "execution": {
          "iopub.status.busy": "2020-12-05T14:22:24.381Z",
          "iopub.execute_input": "2020-12-05T14:22:24.391Z",
          "iopub.status.idle": "2020-12-05T14:22:24.408Z"
        }
      }
    },
    {
      "cell_type": "markdown",
      "source": [
        "Note that ' ' define a character, but NOT a string!"
      ],
      "metadata": {}
    },
    {
      "cell_type": "code",
      "source": [
        "typeof('a')"
      ],
      "outputs": [],
      "execution_count": null,
      "metadata": {}
    },
    {
      "cell_type": "code",
      "source": [
        "'We will get an error here'"
      ],
      "outputs": [],
      "execution_count": null,
      "metadata": {}
    },
    {
      "cell_type": "markdown",
      "source": [
        "## String interpolation\n",
        "\n",
        "We can use the $ sign to insert existing variables into a string and to evaluate expressions within a string. <br>\n",
        "Below is an example that contains some highly sensitive personal information."
      ],
      "metadata": {}
    },
    {
      "cell_type": "code",
      "source": [
        "name = \"Jane\"\n",
        "num_fingers = 10\n",
        "num_toes = 10"
      ],
      "outputs": [],
      "execution_count": null,
      "metadata": {}
    },
    {
      "cell_type": "code",
      "source": [
        "println(\"Hello, my name is $name.\")\n",
        "println(\"I have $num_fingers fingers and $num_toes toes.\")"
      ],
      "outputs": [],
      "execution_count": null,
      "metadata": {}
    },
    {
      "cell_type": "code",
      "source": [
        " println(\"That is $(num_fingers + num_toes) digits in all!!\")"
      ],
      "outputs": [],
      "execution_count": null,
      "metadata": {}
    },
    {
      "cell_type": "markdown",
      "source": [
        "## String concatenation\n",
        "\n",
        "Below are three ways we can concatenate strings! <br><br>\n",
        "The first way is to use the `string()` function. <br>\n",
        "`string()` converts non-string inputs to strings."
      ],
      "metadata": {}
    },
    {
      "cell_type": "code",
      "source": [
        "s3 = \"How many cats \";\n",
        "s4 = \"is too many cats?\";\n",
        "😺 = 10"
      ],
      "outputs": [],
      "execution_count": null,
      "metadata": {}
    },
    {
      "cell_type": "code",
      "source": [
        "string(s3, s4)"
      ],
      "outputs": [],
      "execution_count": null,
      "metadata": {}
    },
    {
      "cell_type": "code",
      "source": [
        "string(\"I don't know, but \", 😺, \" is too few.\")"
      ],
      "outputs": [],
      "execution_count": null,
      "metadata": {}
    },
    {
      "cell_type": "markdown",
      "source": [
        "We can also use `*` for concatenation!"
      ],
      "metadata": {}
    },
    {
      "cell_type": "code",
      "source": [
        "s3*s4"
      ],
      "outputs": [],
      "execution_count": null,
      "metadata": {}
    },
    {
      "cell_type": "markdown",
      "source": [
        "### Exercises\n",
        "\n",
        "#### 2.1 \n",
        "Create a string that says \"hi\" 1000 times, first with `repeat` and then with the exponentiation operator, which can call `*` under the hood. Assign it the variable `hi` below."
      ],
      "metadata": {}
    },
    {
      "cell_type": "code",
      "source": [],
      "outputs": [],
      "execution_count": null,
      "metadata": {
        "deletable": false,
        "nbgrader": {
          "checksum": "2046f6f9c3d290e2d63b4c261629d27d",
          "grade": false,
          "grade_id": "cell-5b38bdb1115161b4",
          "locked": false,
          "schema_version": 1,
          "solution": true
        }
      }
    },
    {
      "cell_type": "code",
      "source": [
        "@assert hi == \"hihihihihihihihihihihihihihihihihihihihihihihihihihihihihihihihihihihihihihihihihihihihihihihihihihihihihihihihihihihihihihihihihihihihihihihihihihihihihihihihihihihihihihihihihihihihihihihihihihihihihihihihihihihihihihihihihihihihihihihihihihihihihihihihihihihihihihihihihihihihihihihihihihihihihihihihihihihihihihihihihihihihihihihihihihihihihihihihihihihihihihihihihihihihihihihihihihihihihihihihihihihihihihihihihihihihihihihihihihihihihihihihihihihihihihihihihihihihihihihihihihihihihihihihihihihihihihihihihihihihihihihihihihihihihihihihihihihihihihihihihihihihihihihihihihihihihihihihihihihihihihihihihihihihihihihihihihihihihihihihihihihihihihihihihihihihihihihihihihihihihihihihihihihihihihihihihihihihihihihihihihihihihihihihihihihihihihihihihihihihihihihihihihihihihihihihihihihihihihihihihihihihihihihihihihihihihihihihihihihihihihihihihihihihihihihihihihihihihihihihihihihihihihihihihihihihihihihihihihihihihihihihihihihihihihihihihihihihihihihihihihihihihihihihihihihihihihihihihihihihihihihihihihihihihihihihihihihihihihihihihihihihihihihihihihihihihihihihihihihihihihihihihihihihihihihihihihihihihihihihihihihihihihihihihihihihihihihihihihihihihihihihihihihihihihihihihihihihihihihihihihihihihihihihihihihihihihihihihihihihihihihihihihihihihihihihihihihihihihihihihihihihihihihihihihihihihihihihihihihihihihihihihihihihihihihihihihihihihihihihihihihihihihihihihihihihihihihihihihihihihihihihihihihihihihihihihihihihihihihihihihihihihihihihihihihihihihihihihihihihihihihihihihihihihihihihihihihihihihihihihihihihihihihihihihihihihihihihihihihihihihihihihihihihihihihihihihihihihihihihihihihihihihihihihihihihihihihihihihihihihihihihihihihihihihihihihihihihihihihihihihihihihihihihihihihihihihihihihihihihihihihihihihihihihihihihihihihihihihihihihihihihihihihihihihihihihihihihihihihihihihihihihihihihihihihihihihihihihihihihihihihihihihihihihihihihihihihihihihihihihihihihihihihihihihihihihihihihihihihihihihihihihihihihihihihihihihihihihihihihihihihihihihihihihihihihihihihihihihihihi\""
      ],
      "outputs": [],
      "execution_count": null,
      "metadata": {
        "deletable": false,
        "editable": false,
        "hide_input": true,
        "nbgrader": {
          "checksum": "8b3cc1d8a062b67271109b980793144e",
          "grade": true,
          "grade_id": "cell-20b1027a968fbb48",
          "locked": true,
          "points": 1,
          "schema_version": 1,
          "solution": false
        }
      }
    },
    {
      "cell_type": "markdown",
      "source": [
        "#### 2.2 \n",
        "Declare two variables\n",
        "\n",
        "```julia\n",
        "a = 3\n",
        "b = 4\n",
        "```\n",
        "and use them to create two strings:\n",
        "```julia\n",
        "\"3 + 4\"\n",
        "\"7\" \n",
        "```\n",
        "and store the results in `c` and `d` respectively"
      ],
      "metadata": {}
    },
    {
      "cell_type": "code",
      "source": [],
      "outputs": [],
      "execution_count": null,
      "metadata": {
        "deletable": false,
        "nbgrader": {
          "checksum": "fad4e601d321aac4b6a1ea9b4e859309",
          "grade": false,
          "grade_id": "cell-36beb524c8ecd33b",
          "locked": false,
          "schema_version": 1,
          "solution": true
        }
      }
    },
    {
      "cell_type": "code",
      "source": [
        "@assert c == \"3 + 4\"\n",
        "@assert d == \"7\""
      ],
      "outputs": [],
      "execution_count": null,
      "metadata": {
        "deletable": false,
        "editable": false,
        "hide_input": true,
        "nbgrader": {
          "checksum": "191b413e8c273e1d2c6423d090ce6f0f",
          "grade": true,
          "grade_id": "cell-14c3c5b015a97892",
          "locked": true,
          "points": 1,
          "schema_version": 1,
          "solution": false
        }
      }
    },
    {
      "cell_type": "markdown",
      "source": [
        "Please click on `Validate` on the top, once you are done with the exercises."
      ],
      "metadata": {}
    }
  ],
  "metadata": {
    "kernelspec": {
      "display_name": "Julia 1.0.0",
      "language": "julia",
      "name": "julia-1.0"
    },
    "language_info": {
      "file_extension": ".jl",
      "name": "julia",
      "mimetype": "application/julia",
      "version": "1.5.3"
    },
    "nteract": {
      "version": "0.27.0"
    }
  },
  "nbformat": 4,
  "nbformat_minor": 2
}