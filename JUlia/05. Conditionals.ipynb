{
  "cells": [
    {
      "cell_type": "markdown",
      "source": [
        "# Conditionals\n",
        "\n",
        "#### with the `if` keyword\n",
        "In Julia, the syntax\n",
        "\n",
        "```julia\n",
        "if *condition 1*\n",
        "    *option 1*\n",
        "elseif *condition 2*\n",
        "    *option 2*\n",
        "else\n",
        "    *option 3*\n",
        "end\n",
        "```\n",
        "\n",
        "allows us to conditionally evaluate one of our options.\n",
        "<br><br>\n",
        "For example, we might want to implement the FizzBuzz test: given a number, N, print \"Fizz\" if N is divisible by 3, \"Buzz\" if N is divisible by 5, and \"FizzBuzz\" if N is divisible by 3 and 5. Otherwise just print the number itself! Enter your choice for `N` here:"
      ],
      "metadata": {
        "collapsed": true
      }
    },
    {
      "cell_type": "code",
      "source": [
        "N = 18"
      ],
      "outputs": [
        {
          "output_type": "execute_result",
          "execution_count": 1,
          "data": {
            "text/plain": "18"
          },
          "metadata": {}
        }
      ],
      "execution_count": 1,
      "metadata": {
        "execution": {
          "iopub.status.busy": "2020-12-06T09:11:40.058Z",
          "iopub.execute_input": "2020-12-06T09:11:40.492Z",
          "iopub.status.idle": "2020-12-06T09:11:40.967Z"
        }
      }
    },
    {
      "cell_type": "code",
      "source": [
        "if (N % 3 == 0) && (N % 5 == 0) # `&&` means \"AND\"; % computes the remainder after division\n",
        "    println(\"FizzBuzz\")\n",
        "elseif N % 3 == 0\n",
        "    println(\"Fizz\")\n",
        "elseif N % 5 == 0\n",
        "    println(\"Buzz\")\n",
        "else\n",
        "    println(N)\n",
        "end"
      ],
      "outputs": [
        {
          "output_type": "stream",
          "name": "stdout",
          "text": [
            "Fizz\n"
          ]
        }
      ],
      "execution_count": 2,
      "metadata": {
        "execution": {
          "iopub.status.busy": "2020-12-06T09:13:10.630Z",
          "iopub.execute_input": "2020-12-06T09:13:10.646Z",
          "iopub.status.idle": "2020-12-06T09:13:10.717Z"
        }
      }
    },
    {
      "cell_type": "markdown",
      "source": [
        "#### with ternary operators\n",
        "\n",
        "For this last block, we could instead use the ternary operator with the syntax\n",
        "\n",
        "```julia\n",
        "a ? b : c\n",
        "```\n",
        "\n",
        "which equates to \n",
        "\n",
        "```julia\n",
        "if a\n",
        "    b\n",
        "else\n",
        "    c\n",
        "end\n",
        "```"
      ],
      "metadata": {}
    },
    {
      "cell_type": "markdown",
      "source": [
        "Now let's say we want to return the larger of two numbers. Give `x` and `y` values here:"
      ],
      "metadata": {}
    },
    {
      "cell_type": "code",
      "source": [
        "x = 5\n",
        "y = 15"
      ],
      "outputs": [
        {
          "output_type": "execute_result",
          "execution_count": 4,
          "data": {
            "text/plain": "15"
          },
          "metadata": {}
        }
      ],
      "execution_count": 4,
      "metadata": {
        "execution": {
          "iopub.status.busy": "2020-12-06T09:13:47.491Z",
          "iopub.execute_input": "2020-12-06T09:13:47.507Z",
          "iopub.status.idle": "2020-12-06T09:13:47.531Z"
        }
      }
    },
    {
      "cell_type": "markdown",
      "source": [
        "Using the `if` and `else` keywords, we might write:"
      ],
      "metadata": {}
    },
    {
      "cell_type": "code",
      "source": [
        "if x > y\n",
        "    x\n",
        "else\n",
        "    y\n",
        "end"
      ],
      "outputs": [
        {
          "output_type": "execute_result",
          "execution_count": 5,
          "data": {
            "text/plain": "15"
          },
          "metadata": {}
        }
      ],
      "execution_count": 5,
      "metadata": {
        "execution": {
          "iopub.status.busy": "2020-12-06T09:14:25.984Z",
          "iopub.execute_input": "2020-12-06T09:14:25.993Z",
          "iopub.status.idle": "2020-12-06T09:14:26.012Z"
        }
      }
    },
    {
      "cell_type": "markdown",
      "source": [
        "and as a ternary operator, the conditional looks like this:"
      ],
      "metadata": {}
    },
    {
      "cell_type": "code",
      "source": [
        "(x > y) ? x : y"
      ],
      "outputs": [
        {
          "output_type": "execute_result",
          "execution_count": 6,
          "data": {
            "text/plain": "15"
          },
          "metadata": {}
        }
      ],
      "execution_count": 6,
      "metadata": {
        "execution": {
          "iopub.status.busy": "2020-12-06T09:14:43.975Z",
          "iopub.execute_input": "2020-12-06T09:14:43.987Z",
          "iopub.status.idle": "2020-12-06T09:14:44.011Z"
        }
      }
    },
    {
      "cell_type": "markdown",
      "source": [
        "#### with short-circuit evaluation\n",
        "\n",
        "We've already seen expressions with the syntax\n",
        "```julia\n",
        "a && b\n",
        "```\n",
        "to return true if both `a` and `b` are true. Of course, if `a` is false, Julia doesn't even need to know the value of `b` in order to determine that the overall result will be false. So Julia doesn't even need to check what `b` is; it can just \"short-circuit\" and immediately return `false`.  The second argument `b` might be a more complicated expression like a function call with a side-effect, in which case it won't even be called:"
      ],
      "metadata": {}
    },
    {
      "cell_type": "code",
      "source": [
        "false && (println(\"hi\"); true)"
      ],
      "outputs": [
        {
          "output_type": "execute_result",
          "execution_count": 7,
          "data": {
            "text/plain": "false"
          },
          "metadata": {}
        }
      ],
      "execution_count": 7,
      "metadata": {
        "execution": {
          "iopub.status.busy": "2020-12-06T09:15:31.701Z",
          "iopub.execute_input": "2020-12-06T09:15:31.712Z",
          "iopub.status.idle": "2020-12-06T09:15:31.884Z"
        }
      }
    },
    {
      "cell_type": "code",
      "source": [
        "true && (println(\"hi\"); true)"
      ],
      "outputs": [
        {
          "output_type": "stream",
          "name": "stdout",
          "text": [
            "hi\n"
          ]
        },
        {
          "output_type": "execute_result",
          "execution_count": 8,
          "data": {
            "text/plain": "true"
          },
          "metadata": {}
        }
      ],
      "execution_count": 8,
      "metadata": {
        "execution": {
          "iopub.status.busy": "2020-12-06T09:15:42.452Z",
          "iopub.execute_input": "2020-12-06T09:15:42.463Z",
          "iopub.status.idle": "2020-12-06T09:15:42.546Z"
        }
      }
    },
    {
      "cell_type": "markdown",
      "source": [
        "On the other hand, if `a` is true, Julia knows it can just return the value of `b` as the overall expression. This means that `b` doesn't necessarily need evaluate to `true` or `false`!  `b` could even be an error:"
      ],
      "metadata": {}
    },
    {
      "cell_type": "code",
      "source": [
        "(x > 0) && error(\"x cannot be greater than 0\")"
      ],
      "outputs": [
        {
          "output_type": "error",
          "ename": "LoadError",
          "evalue": "x cannot be greater than 0",
          "traceback": [
            "x cannot be greater than 0",
            "",
            "Stacktrace:",
            " [1] error(::String) at .\\error.jl:33",
            " [2] top-level scope at In[9]:1",
            " [3] include_string(::Function, ::Module, ::String, ::String) at .\\loading.jl:1091"
          ]
        }
      ],
      "execution_count": 9,
      "metadata": {
        "execution": {
          "iopub.status.busy": "2020-12-06T09:16:21.189Z",
          "iopub.execute_input": "2020-12-06T09:16:21.200Z"
        }
      }
    },
    {
      "cell_type": "markdown",
      "source": [
        "Similarly, check out the `||` operator, which also uses short-circuit evaluation to perform the \"or\" operation."
      ],
      "metadata": {}
    },
    {
      "cell_type": "code",
      "source": [
        "true || println(\"hi\")"
      ],
      "outputs": [
        {
          "output_type": "execute_result",
          "execution_count": 10,
          "data": {
            "text/plain": "true"
          },
          "metadata": {}
        }
      ],
      "execution_count": 10,
      "metadata": {
        "execution": {
          "iopub.status.busy": "2020-12-06T09:20:25.892Z",
          "iopub.execute_input": "2020-12-06T09:20:25.911Z",
          "iopub.status.idle": "2020-12-06T09:20:25.952Z"
        }
      }
    },
    {
      "cell_type": "markdown",
      "source": [
        "and"
      ],
      "metadata": {}
    },
    {
      "cell_type": "code",
      "source": [
        "false || println(\"hi\")"
      ],
      "outputs": [
        {
          "output_type": "stream",
          "name": "stdout",
          "text": [
            "hi\n"
          ]
        }
      ],
      "execution_count": 11,
      "metadata": {
        "execution": {
          "iopub.status.busy": "2020-12-06T09:20:30.065Z",
          "iopub.execute_input": "2020-12-06T09:20:30.073Z",
          "iopub.status.idle": "2020-12-06T09:20:30.088Z"
        }
      }
    },
    {
      "cell_type": "markdown",
      "source": [
        "### Exercises\n",
        "\n",
        "#### 5.1 \n",
        "Write a conditional statement that prints a number if the number is even and the string \"odd\" if the number is odd."
      ],
      "metadata": {
        "collapsed": true
      }
    },
    {
      "cell_type": "code",
      "source": [
        "if N % 2 == 0\n",
        "  \"even\"\n",
        "else\n",
        "  \"odd\"\n",
        "end"
      ],
      "outputs": [
        {
          "output_type": "execute_result",
          "execution_count": 12,
          "data": {
            "text/plain": "\"even\""
          },
          "metadata": {}
        }
      ],
      "execution_count": 12,
      "metadata": {
        "execution": {
          "iopub.status.busy": "2020-12-06T09:22:09.212Z",
          "iopub.execute_input": "2020-12-06T09:22:09.221Z",
          "iopub.status.idle": "2020-12-06T09:22:09.475Z"
        }
      }
    },
    {
      "cell_type": "markdown",
      "source": [
        "#### 5.2 \n",
        "Rewrite the code from 5.1 using a ternary operator."
      ],
      "metadata": {}
    },
    {
      "cell_type": "code",
      "source": [
        "(N%2==0) ? \"even\" : \"odd\""
      ],
      "outputs": [
        {
          "output_type": "execute_result",
          "execution_count": 13,
          "data": {
            "text/plain": "\"even\""
          },
          "metadata": {}
        }
      ],
      "execution_count": 13,
      "metadata": {
        "execution": {
          "iopub.status.busy": "2020-12-06T09:23:18.185Z",
          "iopub.execute_input": "2020-12-06T09:23:18.194Z",
          "iopub.status.idle": "2020-12-06T09:23:18.213Z"
        }
      }
    }
  ],
  "metadata": {
    "kernelspec": {
      "display_name": "Julia 1.0.0",
      "language": "julia",
      "name": "julia-1.0"
    },
    "language_info": {
      "file_extension": ".jl",
      "name": "julia",
      "mimetype": "application/julia",
      "version": "1.5.3"
    },
    "nteract": {
      "version": "0.27.0"
    }
  },
  "nbformat": 4,
  "nbformat_minor": 2
}